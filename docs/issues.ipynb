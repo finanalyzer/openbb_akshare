{
 "cells": [
  {
   "cell_type": "markdown",
   "id": "c98c9f21",
   "metadata": {},
   "source": [
    "# Issues"
   ]
  },
  {
   "cell_type": "markdown",
   "id": "91363162",
   "metadata": {},
   "source": [
    "### Version 0.4.43\n",
    "#### \"[Unexpected Error] -> KeyError -> 'cmsArticleWebOld'\" is an error from akshare?\n",
    "\n",
    "This [issue](https://github.com/finanalyzer/openbb_akshare/issues/7) arises from akshare version 1.17.18. Upgrading to version 1.17.25 resolves the problem."
   ]
  },
  {
   "cell_type": "code",
   "execution_count": 2,
   "id": "cfca205d",
   "metadata": {},
   "outputs": [
    {
     "data": {
      "text/plain": [
       "['openbb_akshare@0.4.44']"
      ]
     },
     "execution_count": 2,
     "metadata": {},
     "output_type": "execute_result"
    }
   ],
   "source": [
    "from openbb import obb\n",
    "\n",
    "obj = obb.reference[\"info\"][\"extensions\"][\"openbb_provider_extension\"]\n",
    "result = [item for item in obj if \"akshare\" in item]\n",
    "result"
   ]
  },
  {
   "cell_type": "code",
   "execution_count": 2,
   "id": "a6fcbcb9",
   "metadata": {},
   "outputs": [],
   "source": [
    "import akshare as ak\n",
    "symbol = \"000001\"\n",
    "data = ak.stock_news_em(symbol)"
   ]
  },
  {
   "cell_type": "code",
   "execution_count": 3,
   "id": "11b3b0f5",
   "metadata": {},
   "outputs": [],
   "source": [
    "messages = obb.news.company('000001', provider='akshare')"
   ]
  },
  {
   "cell_type": "code",
   "execution_count": 6,
   "id": "57c30ac9",
   "metadata": {},
   "outputs": [
    {
     "data": {
      "text/html": [
       "<div>\n",
       "<style scoped>\n",
       "    .dataframe tbody tr th:only-of-type {\n",
       "        vertical-align: middle;\n",
       "    }\n",
       "\n",
       "    .dataframe tbody tr th {\n",
       "        vertical-align: top;\n",
       "    }\n",
       "\n",
       "    .dataframe thead th {\n",
       "        text-align: right;\n",
       "    }\n",
       "</style>\n",
       "<table border=\"1\" class=\"dataframe\">\n",
       "  <thead>\n",
       "    <tr style=\"text-align: right;\">\n",
       "      <th></th>\n",
       "      <th>title</th>\n",
       "      <th>text</th>\n",
       "      <th>url</th>\n",
       "      <th>source</th>\n",
       "    </tr>\n",
       "    <tr>\n",
       "      <th>date</th>\n",
       "      <th></th>\n",
       "      <th></th>\n",
       "      <th></th>\n",
       "      <th></th>\n",
       "    </tr>\n",
       "  </thead>\n",
       "  <tbody>\n",
       "    <tr>\n",
       "      <th>2025-02-21 20:43:04</th>\n",
       "      <td>平安银行同意给予平安租赁综合授信额度等值65亿元</td>\n",
       "      <td>2月21日，平安银行（000001）发布公告，同意给予平安国际融资租赁有限公司原额续作综合授...</td>\n",
       "      <td>http://finance.eastmoney.com/a/202502213326403...</td>\n",
       "      <td>财中社</td>\n",
       "    </tr>\n",
       "    <tr>\n",
       "      <th>2025-03-02 16:41:38</th>\n",
       "      <td>平安银行优先股股息方案获批 每股派息4.37元</td>\n",
       "      <td>3月2日，平安银行（000001）发布公告，优先股（以下简称“平银优01”）股息发放方案已获...</td>\n",
       "      <td>http://finance.eastmoney.com/a/202503023333939...</td>\n",
       "      <td>财中社</td>\n",
       "    </tr>\n",
       "    <tr>\n",
       "      <th>2025-03-05 11:07:12</th>\n",
       "      <td>平安银行领导班子调整：王军升任行长助理 张朝晖兼任深圳分行行长</td>\n",
       "      <td>3月4日，市场传出平安银行（000001）领导班子进行调整的消息，平安银行深圳分行行长王军拟...</td>\n",
       "      <td>http://finance.eastmoney.com/a/202503053337024...</td>\n",
       "      <td>财中社</td>\n",
       "    </tr>\n",
       "    <tr>\n",
       "      <th>2025-03-07 18:25:09</th>\n",
       "      <td>平安银行：业绩说明会定于3月17日举行</td>\n",
       "      <td>每经AI快讯，平安银行（SZ 000001，收盘价：11.67元）3月7日晚间发布公告称，公...</td>\n",
       "      <td>http://finance.eastmoney.com/a/202503073339890...</td>\n",
       "      <td>每日经济新闻</td>\n",
       "    </tr>\n",
       "    <tr>\n",
       "      <th>2025-03-07 19:37:09</th>\n",
       "      <td>平安银行将于3月17日举行业绩发布会</td>\n",
       "      <td>3月7日晚间，平安银行（000001）发布《关于召开2024年度业绩说明会的公告》通知，平安...</td>\n",
       "      <td>http://finance.eastmoney.com/a/202503073339945...</td>\n",
       "      <td>财中社</td>\n",
       "    </tr>\n",
       "  </tbody>\n",
       "</table>\n",
       "</div>"
      ],
      "text/plain": [
       "                                               title  \\\n",
       "date                                                   \n",
       "2025-02-21 20:43:04         平安银行同意给予平安租赁综合授信额度等值65亿元   \n",
       "2025-03-02 16:41:38          平安银行优先股股息方案获批 每股派息4.37元   \n",
       "2025-03-05 11:07:12  平安银行领导班子调整：王军升任行长助理 张朝晖兼任深圳分行行长   \n",
       "2025-03-07 18:25:09              平安银行：业绩说明会定于3月17日举行   \n",
       "2025-03-07 19:37:09               平安银行将于3月17日举行业绩发布会   \n",
       "\n",
       "                                                                  text  \\\n",
       "date                                                                     \n",
       "2025-02-21 20:43:04  2月21日，平安银行（000001）发布公告，同意给予平安国际融资租赁有限公司原额续作综合授...   \n",
       "2025-03-02 16:41:38  3月2日，平安银行（000001）发布公告，优先股（以下简称“平银优01”）股息发放方案已获...   \n",
       "2025-03-05 11:07:12  3月4日，市场传出平安银行（000001）领导班子进行调整的消息，平安银行深圳分行行长王军拟...   \n",
       "2025-03-07 18:25:09  每经AI快讯，平安银行（SZ 000001，收盘价：11.67元）3月7日晚间发布公告称，公...   \n",
       "2025-03-07 19:37:09  3月7日晚间，平安银行（000001）发布《关于召开2024年度业绩说明会的公告》通知，平安...   \n",
       "\n",
       "                                                                   url  source  \n",
       "date                                                                            \n",
       "2025-02-21 20:43:04  http://finance.eastmoney.com/a/202502213326403...     财中社  \n",
       "2025-03-02 16:41:38  http://finance.eastmoney.com/a/202503023333939...     财中社  \n",
       "2025-03-05 11:07:12  http://finance.eastmoney.com/a/202503053337024...     财中社  \n",
       "2025-03-07 18:25:09  http://finance.eastmoney.com/a/202503073339890...  每日经济新闻  \n",
       "2025-03-07 19:37:09  http://finance.eastmoney.com/a/202503073339945...     财中社  "
      ]
     },
     "execution_count": 6,
     "metadata": {},
     "output_type": "execute_result"
    }
   ],
   "source": [
    "messages.to_dataframe().head()"
   ]
  },
  {
   "cell_type": "code",
   "execution_count": 4,
   "id": "fbc2099e",
   "metadata": {},
   "outputs": [
    {
     "data": {
      "text/html": [
       "<div>\n",
       "<style scoped>\n",
       "    .dataframe tbody tr th:only-of-type {\n",
       "        vertical-align: middle;\n",
       "    }\n",
       "\n",
       "    .dataframe tbody tr th {\n",
       "        vertical-align: top;\n",
       "    }\n",
       "\n",
       "    .dataframe thead th {\n",
       "        text-align: right;\n",
       "    }\n",
       "</style>\n",
       "<table border=\"1\" class=\"dataframe\">\n",
       "  <thead>\n",
       "    <tr style=\"text-align: right;\">\n",
       "      <th></th>\n",
       "      <th>open</th>\n",
       "      <th>high</th>\n",
       "      <th>low</th>\n",
       "      <th>close</th>\n",
       "      <th>volume</th>\n",
       "      <th>amount</th>\n",
       "      <th>change</th>\n",
       "      <th>change_percent</th>\n",
       "    </tr>\n",
       "    <tr>\n",
       "      <th>date</th>\n",
       "      <th></th>\n",
       "      <th></th>\n",
       "      <th></th>\n",
       "      <th></th>\n",
       "      <th></th>\n",
       "      <th></th>\n",
       "      <th></th>\n",
       "      <th></th>\n",
       "    </tr>\n",
       "  </thead>\n",
       "  <tbody>\n",
       "    <tr>\n",
       "      <th>2025-06-02</th>\n",
       "      <td>11.28</td>\n",
       "      <td>11.30</td>\n",
       "      <td>11.14</td>\n",
       "      <td>11.30</td>\n",
       "      <td>10308375</td>\n",
       "      <td>115886930.0</td>\n",
       "      <td>0.00</td>\n",
       "      <td>0.00</td>\n",
       "    </tr>\n",
       "    <tr>\n",
       "      <th>2025-06-03</th>\n",
       "      <td>11.32</td>\n",
       "      <td>11.60</td>\n",
       "      <td>11.30</td>\n",
       "      <td>11.54</td>\n",
       "      <td>11269938</td>\n",
       "      <td>129701066.0</td>\n",
       "      <td>0.24</td>\n",
       "      <td>2.12</td>\n",
       "    </tr>\n",
       "    <tr>\n",
       "      <th>2025-06-04</th>\n",
       "      <td>11.50</td>\n",
       "      <td>11.54</td>\n",
       "      <td>11.38</td>\n",
       "      <td>11.44</td>\n",
       "      <td>7723042</td>\n",
       "      <td>88485719.0</td>\n",
       "      <td>-0.10</td>\n",
       "      <td>-0.87</td>\n",
       "    </tr>\n",
       "    <tr>\n",
       "      <th>2025-06-05</th>\n",
       "      <td>11.44</td>\n",
       "      <td>11.44</td>\n",
       "      <td>11.34</td>\n",
       "      <td>11.42</td>\n",
       "      <td>7607515</td>\n",
       "      <td>86628055.0</td>\n",
       "      <td>-0.02</td>\n",
       "      <td>-0.17</td>\n",
       "    </tr>\n",
       "    <tr>\n",
       "      <th>2025-06-06</th>\n",
       "      <td>11.42</td>\n",
       "      <td>11.50</td>\n",
       "      <td>11.38</td>\n",
       "      <td>11.50</td>\n",
       "      <td>4635889</td>\n",
       "      <td>53201835.0</td>\n",
       "      <td>0.08</td>\n",
       "      <td>0.70</td>\n",
       "    </tr>\n",
       "  </tbody>\n",
       "</table>\n",
       "</div>"
      ],
      "text/plain": [
       "             open   high    low  close    volume       amount  change  \\\n",
       "date                                                                    \n",
       "2025-06-02  11.28  11.30  11.14  11.30  10308375  115886930.0    0.00   \n",
       "2025-06-03  11.32  11.60  11.30  11.54  11269938  129701066.0    0.24   \n",
       "2025-06-04  11.50  11.54  11.38  11.44   7723042   88485719.0   -0.10   \n",
       "2025-06-05  11.44  11.44  11.34  11.42   7607515   86628055.0   -0.02   \n",
       "2025-06-06  11.42  11.50  11.38  11.50   4635889   53201835.0    0.08   \n",
       "\n",
       "            change_percent  \n",
       "date                        \n",
       "2025-06-02            0.00  \n",
       "2025-06-03            2.12  \n",
       "2025-06-04           -0.87  \n",
       "2025-06-05           -0.17  \n",
       "2025-06-06            0.70  "
      ]
     },
     "execution_count": 4,
     "metadata": {},
     "output_type": "execute_result"
    }
   ],
   "source": [
    "prices = obb.equity.price.historical(symbol='06823', start_date=\"2025-06-01\", end_date=\"2025-06-10\", provider=\"akshare\")\n",
    "prices.to_dataframe().head()"
   ]
  },
  {
   "cell_type": "code",
   "execution_count": 5,
   "id": "00533a6b",
   "metadata": {},
   "outputs": [
    {
     "data": {
      "application/vnd.jupyter.widget-view+json": {
       "model_id": "5f0f5833a3554857a46ef3a133d99a85",
       "version_major": 2,
       "version_minor": 0
      },
      "text/plain": [
       "  0%|          | 0/57 [00:00<?, ?it/s]"
      ]
     },
     "metadata": {},
     "output_type": "display_data"
    }
   ],
   "source": [
    "data = obb.equity.price.quote(symbol='000002', provider='akshare')"
   ]
  },
  {
   "cell_type": "code",
   "execution_count": 6,
   "id": "dd06d942",
   "metadata": {},
   "outputs": [
    {
     "data": {
      "text/html": [
       "<div>\n",
       "<style scoped>\n",
       "    .dataframe tbody tr th:only-of-type {\n",
       "        vertical-align: middle;\n",
       "    }\n",
       "\n",
       "    .dataframe tbody tr th {\n",
       "        vertical-align: top;\n",
       "    }\n",
       "\n",
       "    .dataframe thead th {\n",
       "        text-align: right;\n",
       "    }\n",
       "</style>\n",
       "<table border=\"1\" class=\"dataframe\">\n",
       "  <thead>\n",
       "    <tr style=\"text-align: right;\">\n",
       "      <th></th>\n",
       "      <th>symbol</th>\n",
       "      <th>name</th>\n",
       "      <th>last_price</th>\n",
       "      <th>open</th>\n",
       "      <th>high</th>\n",
       "      <th>low</th>\n",
       "      <th>volume</th>\n",
       "      <th>prev_close</th>\n",
       "      <th>change</th>\n",
       "      <th>change_percent</th>\n",
       "    </tr>\n",
       "  </thead>\n",
       "  <tbody>\n",
       "    <tr>\n",
       "      <th>0</th>\n",
       "      <td>000002</td>\n",
       "      <td>万  科Ａ</td>\n",
       "      <td>6.68</td>\n",
       "      <td>6.61</td>\n",
       "      <td>6.72</td>\n",
       "      <td>6.53</td>\n",
       "      <td>1326776.0</td>\n",
       "      <td>6.6</td>\n",
       "      <td>0.08</td>\n",
       "      <td>1.21</td>\n",
       "    </tr>\n",
       "  </tbody>\n",
       "</table>\n",
       "</div>"
      ],
      "text/plain": [
       "   symbol   name  last_price  open  high   low     volume  prev_close  change  \\\n",
       "0  000002  万  科Ａ        6.68  6.61  6.72  6.53  1326776.0         6.6    0.08   \n",
       "\n",
       "   change_percent  \n",
       "0            1.21  "
      ]
     },
     "execution_count": 6,
     "metadata": {},
     "output_type": "execute_result"
    }
   ],
   "source": [
    "data.to_dataframe().head()"
   ]
  }
 ],
 "metadata": {
  "kernelspec": {
   "display_name": "winbb",
   "language": "python",
   "name": "python3"
  },
  "language_info": {
   "codemirror_mode": {
    "name": "ipython",
    "version": 3
   },
   "file_extension": ".py",
   "mimetype": "text/x-python",
   "name": "python",
   "nbconvert_exporter": "python",
   "pygments_lexer": "ipython3",
   "version": "3.12.10"
  }
 },
 "nbformat": 4,
 "nbformat_minor": 5
}
